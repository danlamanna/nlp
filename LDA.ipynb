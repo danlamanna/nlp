{
 "metadata": {
  "name": ""
 },
 "nbformat": 3,
 "nbformat_minor": 0,
 "worksheets": [
  {
   "cells": [
    {
     "cell_type": "code",
     "collapsed": false,
     "input": [
      "from gensim import corpora, models, similarities, utils\n",
      "from nltk.corpus import stopwords\n",
      "import os, pickle, nltk, enchant\n",
      "import scipy, gensim\n",
      "import numpy as np, ipdb, re\n",
      "from gensim.models.ldamodel import LdaModel\n",
      "from gensim.corpora.textcorpus import TextCorpus\n",
      "from gensim.similarities import MatrixSimilarity\n",
      "\n",
      "NUM_TOPICS = 140\n",
      "\n",
      "d = enchant.Dict(\"en_US\")\n",
      "\n",
      "base_dir = BASEDIR = \"data/petitions/\""
     ],
     "language": "python",
     "outputs": [],
     "prompt_number": 4
    },
    {
     "cell_type": "code",
     "collapsed": false,
     "input": [
      "\n",
      "petitions = pickle.load(open(\"petitions.pickle\", \"r\"))\n",
      "document_filenames = os.listdir(\"data/petitions\")\n",
      "\n",
      "def ith_petition_title(i):\n",
      "    m = re.match(\"^petition\\_([0-9]+)\\.clean\\.txt$\", document_filenames[i])\n",
      "    \n",
      "    if m:    \n",
      "        return petitions[int(m.groups(0)[0])]\n",
      "\n",
      "\n",
      "\n",
      "\n",
      "def get_dir_files(dir_path):\n",
      "    file_strings = []\n",
      "    filenames = os.listdir(dir_path)\n",
      "    for filename in filenames:\n",
      "        fh = open(dir_path + filename, 'r')\n",
      "        file_strings.append(fh.read())\n",
      "        fh.close()\n",
      "\n",
      "    return file_strings\n",
      "\n",
      "def do_word(word):\n",
      "    word = str(word)\n",
      "\n",
      "    if word.endswith('s') and word != \"s\":\n",
      "        if d.check(word[0:len(word)-1]):\n",
      "            return word[0:len(word)-1]\n",
      "    elif word.endswith('ing') and word != \"ing\":\n",
      "        if d.check(word[0:len(word)-3]):\n",
      "            return word[0:len(word)-3]\n",
      "    elif word.endswith('ed') and word != \"ed\":\n",
      "        if d.check(word[0:len(word)-2]):\n",
      "            return word[0:len(word)-2]\n",
      "\n",
      "    if word.isdigit():\n",
      "        return \"#\" * len(word)\n",
      "\n",
      "    return word\n",
      "\n",
      "def valid_word(word):\n",
      "    if re.match(\"^[A-Za-z0-9]*$\", word):\n",
      "        return True\n",
      "\n",
      "    return False\n",
      "\n",
      "def get_doc_topic_scores():\n",
      "    for doc_id,doc in enumerate(bow_corpus):\n",
      "        for topic, score in lda_corpus[doc]:\n",
      "            yield (doc_id, topic, score)\n"
     ],
     "language": "python",
     "outputs": [],
     "prompt_number": 79
    },
    {
     "cell_type": "code",
     "collapsed": false,
     "input": [
      "documents = get_dir_files(base_dir)\n",
      "\n",
      "stoplist = set('for a of the and to in'.split())\n",
      "texts = [[do_word(word) for word in document.lower().split() if valid_word(word) and word not in stoplist] for document in documents]\n",
      "\n",
      "dictionary = corpora.Dictionary(texts)\n",
      "\n",
      "bow_corpus = [ dictionary.doc2bow(text) for text in texts ]\n",
      "\n",
      "lda_corpus = gensim.models.ldamodel.LdaModel(corpus=bow_corpus, id2word=dictionary, num_topics=NUM_TOPICS)"
     ],
     "language": "python",
     "outputs": [
      {
       "output_type": "stream",
       "stream": "stderr",
       "text": [
        "WARNING:gensim.models.ldamodel:too few updates, training might not converge; consider increasing the number of passes to improve accuracy\n"
       ]
      }
     ],
     "prompt_number": 7
    },
    {
     "cell_type": "code",
     "collapsed": false,
     "input": [
      "lda_corpus.save(\"data/lda_corpus\")"
     ],
     "language": "python",
     "outputs": [],
     "prompt_number": 5
    },
    {
     "cell_type": "code",
     "collapsed": false,
     "input": [
      "documents[0]"
     ],
     "language": "python",
     "outputs": [
      {
       "output_type": "pyout",
       "prompt_number": 40,
       "text": [
        "' alaskans  free  open  election  decide  alaska  secede  united  states  commonly  held  belief  alaska  constitution  set  protections  liberty  freedoms  continued  inheritance  formation  union  \"  states  \".  main  \"  goal  \"  legal  vote  ballot  ;  1958  violation  international  law  treaty  alaskans  robbed  choices  governing  territory  steam  rolled  current  classification  state  native  population  alaska  large  percentage  receive  ballot  federal  voting  rights  act  place  alaskans  seek  statewide  free  election  decide  alaska  free  independent  nation '"
       ]
      }
     ],
     "prompt_number": 40
    },
    {
     "cell_type": "code",
     "collapsed": false,
     "input": [
      "from collections import defaultdict, OrderedDict\n",
      "topic_dict = defaultdict(list)\n",
      "\n",
      "for doc_id, topic, score in sorted(list(get_doc_topic_scores()), key = lambda k: (k[1], -k[2])):\n",
      "    topic_dict[topic].append((doc_id, score))\n",
      "\n"
     ],
     "language": "python",
     "outputs": [],
     "prompt_number": 59
    },
    {
     "cell_type": "code",
     "collapsed": false,
     "input": [
      "%pylab --no-import-all inline"
     ],
     "language": "python",
     "outputs": [
      {
       "output_type": "stream",
       "stream": "stdout",
       "text": [
        "Populating the interactive namespace from numpy and matplotlib\n"
       ]
      }
     ],
     "prompt_number": 73
    },
    {
     "cell_type": "code",
     "collapsed": false,
     "input": [
      "\n",
      "from matplotlib import pyplot as plt\n",
      "topic = 0\n",
      "doc_ids = [t[0] for t in topic_dict[topic]]\n",
      "scores = [t[1] for t in topic_dict[topic]]\n",
      "\n",
      "plt.xticks(doc_ids)\n",
      "plt.bar(scores)\n",
      "\n",
      "plt.show()"
     ],
     "language": "python",
     "outputs": [
      {
       "ename": "TypeError",
       "evalue": "bar() takes at least 2 arguments (1 given)",
       "output_type": "pyerr",
       "traceback": [
        "\u001b[1;31m---------------------------------------------------------------------------\u001b[0m\n\u001b[1;31mTypeError\u001b[0m                                 Traceback (most recent call last)",
        "\u001b[1;32m<ipython-input-96-8ace015076cb>\u001b[0m in \u001b[0;36m<module>\u001b[1;34m()\u001b[0m\n\u001b[0;32m      6\u001b[0m \u001b[1;33m\u001b[0m\u001b[0m\n\u001b[0;32m      7\u001b[0m \u001b[0mplt\u001b[0m\u001b[1;33m.\u001b[0m\u001b[0mxticks\u001b[0m\u001b[1;33m(\u001b[0m\u001b[0mdoc_ids\u001b[0m\u001b[1;33m)\u001b[0m\u001b[1;33m\u001b[0m\u001b[0m\n\u001b[1;32m----> 8\u001b[1;33m \u001b[0mplt\u001b[0m\u001b[1;33m.\u001b[0m\u001b[0mbar\u001b[0m\u001b[1;33m(\u001b[0m\u001b[0mscores\u001b[0m\u001b[1;33m)\u001b[0m\u001b[1;33m\u001b[0m\u001b[0m\n\u001b[0m\u001b[0;32m      9\u001b[0m \u001b[1;33m\u001b[0m\u001b[0m\n\u001b[0;32m     10\u001b[0m \u001b[0mplt\u001b[0m\u001b[1;33m.\u001b[0m\u001b[0mshow\u001b[0m\u001b[1;33m(\u001b[0m\u001b[1;33m)\u001b[0m\u001b[1;33m\u001b[0m\u001b[0m\n",
        "\u001b[1;31mTypeError\u001b[0m: bar() takes at least 2 arguments (1 given)"
       ]
      },
      {
       "output_type": "display_data",
       "png": "[encoded data removed]",
       "text": [
        "<matplotlib.figure.Figure at 0x50da850>"
       ]
      }
     ],
     "prompt_number": 96
    }
   ]
  }
 ]
}