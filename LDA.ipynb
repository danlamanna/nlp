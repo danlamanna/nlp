{
 "metadata": {
  "name": "LDA"
 },
 "nbformat": 3,
 "nbformat_minor": 0,
 "worksheets": [
  {
   "cells": [
    {
     "cell_type": "code",
     "collapsed": false,
     "input": [
      "from gensim import corpora, models, similarities, utils\n",
      "from nltk.corpus import stopwords\n",
      "import os, pickle, nltk, enchant\n",
      "import scipy, gensim\n",
      "import numpy as np, ipdb, re\n",
      "from gensim.models.ldamodel import LdaModel\n",
      "from gensim.corpora.textcorpus import TextCorpus\n",
      "from gensim.similarities import MatrixSimilarity\n",
      "\n",
      "NUM_TOPICS = 140\n",
      "\n",
      "d = enchant.Dict(\"en_US\")\n",
      "\n",
      "base_dir = BASEDIR = \"data/petitions/\""
     ],
     "language": "python",
     "metadata": {},
     "outputs": [],
     "prompt_number": 7
    },
    {
     "cell_type": "code",
     "collapsed": false,
     "input": [
      "def get_dir_files(dir_path):\n",
      "    file_strings = []\n",
      "    filenames = os.listdir(dir_path)\n",
      "    for filename in filenames:\n",
      "        fh = open(dir_path + filename, 'r')\n",
      "        file_strings.append(fh.read())\n",
      "        fh.close()\n",
      "\n",
      "    return file_strings\n",
      "\n",
      "def do_word(word):\n",
      "    word = str(word)\n",
      "\n",
      "    if word.endswith('s') and word != \"s\":\n",
      "        if d.check(word[0:len(word)-1]):\n",
      "            return word[0:len(word)-1]\n",
      "    elif word.endswith('ing') and word != \"ing\":\n",
      "        if d.check(word[0:len(word)-3]):\n",
      "            return word[0:len(word)-3]\n",
      "    elif word.endswith('ed') and word != \"ed\":\n",
      "        if d.check(word[0:len(word)-2]):\n",
      "            return word[0:len(word)-2]\n",
      "\n",
      "    if word.isdigit():\n",
      "        return \"#\" * len(word)\n",
      "\n",
      "    return word\n",
      "\n",
      "def valid_word(word):\n",
      "    if re.match(\"^[A-Za-z0-9]*$\", word):\n",
      "        return True\n",
      "\n",
      "    return False"
     ],
     "language": "python",
     "metadata": {},
     "outputs": [],
     "prompt_number": 2
    },
    {
     "cell_type": "code",
     "collapsed": false,
     "input": [
      "documents = get_dir_files(base_dir)\n",
      "\n",
      "stoplist = set('for a of the and to in'.split())\n",
      "texts = [[do_word(word) for word in document.lower().split() if valid_word(word) and word not in stoplist] for document in documents]\n",
      "\n",
      "dictionary = corpora.Dictionary(texts)\n",
      "\n",
      "bow_corpus = [ dictionary.doc2bow(text) for text in texts ]\n",
      "\n",
      "lda_corpus = gensim.models.ldamodel.LdaModel(corpus=bow_corpus, id2word=dictionary, num_topics=NUM_TOPICS)"
     ],
     "language": "python",
     "metadata": {},
     "outputs": [],
     "prompt_number": 4
    },
    {
     "cell_type": "code",
     "collapsed": false,
     "input": [
      "lda_corpus.save(\"data/lda_corpus\")"
     ],
     "language": "python",
     "metadata": {},
     "outputs": [],
     "prompt_number": 5
    },
    {
     "cell_type": "code",
     "collapsed": false,
     "input": [],
     "language": "python",
     "metadata": {},
     "outputs": [],
     "prompt_number": 9
    },
    {
     "cell_type": "code",
     "collapsed": false,
     "input": [],
     "language": "python",
     "metadata": {},
     "outputs": []
    }
   ],
   "metadata": {}
  }
 ]
}